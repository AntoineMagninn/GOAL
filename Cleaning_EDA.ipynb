{
 "cells": [
  {
   "cell_type": "code",
   "execution_count": 61,
   "id": "d7685c2f",
   "metadata": {},
   "outputs": [],
   "source": [
    "import pandas as pd"
   ]
  },
  {
   "cell_type": "code",
   "execution_count": 62,
   "id": "535e4db1",
   "metadata": {},
   "outputs": [
    {
     "name": "stdout",
     "output_type": "stream",
     "text": [
      "  competition        date                    match     team  pos pos_role  \\\n",
      "0   Euro 2016  10/06/2016  France - Romania, 2 - 1  Romania   DF       DC   \n",
      "1   Euro 2016  10/06/2016  France - Romania, 2 - 1  Romania   DF       DC   \n",
      "2   Euro 2016  10/06/2016  France - Romania, 2 - 1  Romania   DF       DC   \n",
      "3   Euro 2016  10/06/2016  France - Romania, 2 - 1   France  Sub      Sub   \n",
      "4   Euro 2016  10/06/2016  France - Romania, 2 - 1  Romania   MF      DMC   \n",
      "\n",
      "            player      rater  is_human  original_rating  ...  \\\n",
      "0   Dragos Grigore     Kicker         1             3.50  ...   \n",
      "1   Dragos Grigore  WhoScored         0             6.56  ...   \n",
      "2   Dragos Grigore  SofaScore         0             6.70  ...   \n",
      "3  Anthony Martial  WhoScored         0             6.19  ...   \n",
      "4   Mihai Pintilii     Kicker         1             3.50  ...   \n",
      "\n",
      "   betweenness_centrality  closeness_centrality  flow_centrality  \\\n",
      "0                0.143055              0.603571         0.304348   \n",
      "1                0.143055              0.603571         0.304348   \n",
      "2                0.143055              0.603571         0.304348   \n",
      "3                0.051556              0.524845         0.041096   \n",
      "4                0.333284              0.710084         0.347826   \n",
      "\n",
      "   flow_success  betweenness2goals  win  lost  is_home_team  minutesPlayed  \\\n",
      "0      0.000000                0.0    0     1             0             90   \n",
      "1      0.000000                0.0    0     1             0             90   \n",
      "2      0.000000                0.0    0     1             0             90   \n",
      "3      0.166667                0.0    1     0             1             13   \n",
      "4      0.675075                0.0    0     1             0             90   \n",
      "\n",
      "   game_duration  \n",
      "0             90  \n",
      "1             90  \n",
      "2             90  \n",
      "3             90  \n",
      "4             90  \n",
      "\n",
      "[5 rows x 63 columns]\n"
     ]
    }
   ],
   "source": [
    "# Load the data from a CSV file\n",
    "df = pd.read_csv('data_football_ratings.csv')\n",
    "\n",
    "# Display the first few rows of the dataframe\n",
    "print(df.head())"
   ]
  },
  {
   "cell_type": "code",
   "execution_count": 63,
   "id": "1f81dbc9",
   "metadata": {},
   "outputs": [
    {
     "name": "stdout",
     "output_type": "stream",
     "text": [
      "Total unique players: 1632\n",
      "Top 10 players with the most unique matches:\n",
      "player\n",
      "Kevin De Bruyne     48\n",
      "Hugo Lloris         48\n",
      "Thibaut Courtois    47\n",
      "Granit Xhaka        46\n",
      "Harry Kane          46\n",
      "Jan Vertonghen      46\n",
      "Harry Maguire       45\n",
      "N'Golo Kante        45\n",
      "David de Gea        45\n",
      "Romelu Lukaku       45\n",
      "Name: match, dtype: int64\n",
      "Number of players with at least 20 matches: 524\n"
     ]
    }
   ],
   "source": [
    "# Count total unique players\n",
    "total_unique_players = df['player'].nunique()\n",
    "\n",
    "# Count the number of unique matches per player\n",
    "matches_per_player = df.groupby('player')['match'].nunique()\n",
    "\n",
    "# Get players with at least 20 unique matches\n",
    "players_with_20_matches = matches_per_player[matches_per_player >= 20].index\n",
    "\n",
    "# Filter the dataframe to keep only these players\n",
    "df = df[df['player'].isin(players_with_20_matches)].reset_index(drop=True)\n",
    "\n",
    "top_10_unique_matches = matches_per_player.sort_values(ascending=False).head(10)\n",
    "\n",
    "# Display results\n",
    "print(f\"Total unique players: {total_unique_players}\")\n",
    "print(\"Top 10 players with the most unique matches:\")\n",
    "print(top_10_unique_matches)\n",
    "print(f\"Number of players with at least 20 matches: {len(players_with_20_matches)}\")"
   ]
  },
  {
   "cell_type": "code",
   "execution_count": null,
   "id": "9559f702",
   "metadata": {},
   "outputs": [],
   "source": []
  },
  {
   "cell_type": "code",
   "execution_count": 64,
   "id": "352fc0ce",
   "metadata": {},
   "outputs": [
    {
     "name": "stdout",
     "output_type": "stream",
     "text": [
      "rater\n",
      "SofaScore      7.031845\n",
      "WhoScored      6.840288\n",
      "TheGuardian    6.413462\n",
      "SkySports      6.273266\n",
      "Bild           3.481109\n",
      "Kicker         3.416547\n",
      "Name: original_rating, dtype: float64\n",
      "rater\n",
      "WhoScored      15337\n",
      "SkySports       8274\n",
      "Kicker          6273\n",
      "Bild            4473\n",
      "SofaScore        672\n",
      "TheGuardian      208\n",
      "Name: count, dtype: int64\n"
     ]
    }
   ],
   "source": [
    "# Compute average rating given by each rater\n",
    "avg_rating_by_rater = df.groupby('rater')['original_rating'].mean().sort_values(ascending=False)\n",
    "# Display the result\n",
    "print(avg_rating_by_rater)\n",
    "\n",
    "# Compute the number of ratings given by each rater\n",
    "ratings_count_by_rater = df['rater'].value_counts()\n",
    "# Display the result\n",
    "print(ratings_count_by_rater)"
   ]
  },
  {
   "cell_type": "code",
   "execution_count": 65,
   "id": "9c799a75",
   "metadata": {},
   "outputs": [
    {
     "name": "stdout",
     "output_type": "stream",
     "text": [
      "rater\n",
      "Kicker         7.583453\n",
      "Bild           7.518891\n",
      "SofaScore      7.031845\n",
      "WhoScored      6.840288\n",
      "TheGuardian    6.413462\n",
      "SkySports      6.273266\n",
      "Name: standardized_rating, dtype: float64\n"
     ]
    }
   ],
   "source": [
    "# Standardize ratings: for Bild and Kicker, invert the scale so 1 is worst and 10 is best\n",
    "df['standardized_rating'] = df.apply(\n",
    "    lambda row: 11 - row['original_rating'] if row['rater'] in ['Bild', 'Kicker'] else row['original_rating'],\n",
    "    axis=1\n",
    ")\n",
    "\n",
    "# Now you can recompute the average rating by each rater using the standardized ratings\n",
    "avg_standardized_rating_by_rater = df.groupby('rater')['standardized_rating'].mean().sort_values(ascending=False)\n",
    "print(avg_standardized_rating_by_rater)\n"
   ]
  },
  {
   "cell_type": "code",
   "execution_count": 66,
   "id": "03492e9d",
   "metadata": {},
   "outputs": [
    {
     "name": "stdout",
     "output_type": "stream",
     "text": [
      "rater\n",
      "Bild           6.926722\n",
      "Kicker         6.926722\n",
      "SkySports      6.926722\n",
      "SofaScore      6.926722\n",
      "TheGuardian    6.926722\n",
      "WhoScored      6.926722\n",
      "Name: mean_centered_rating, dtype: float64\n"
     ]
    }
   ],
   "source": [
    "# Compute the global mean of standardized ratings\n",
    "global_mean = df['standardized_rating'].mean()\n",
    "\n",
    "# Compute the mean standardized rating for each rater\n",
    "rater_means = df.groupby('rater')['standardized_rating'].transform('mean')\n",
    "\n",
    "# Adjust ratings so each rater has the same mean (the global mean)\n",
    "df['mean_centered_rating'] = df['standardized_rating'] - rater_means + global_mean\n",
    "\n",
    "# Check the new means per rater (should all be close to global_mean)\n",
    "print(df.groupby('rater')['mean_centered_rating'].mean())\n"
   ]
  },
  {
   "cell_type": "code",
   "execution_count": null,
   "id": "6d9df044",
   "metadata": {},
   "outputs": [
    {
     "name": "stdout",
     "output_type": "stream",
     "text": [
      "Top 10 players by highest average human mean-centered rating:\n",
      "player\n",
      "Kevin De Bruyne     7.905778\n",
      "Wilfried Zaha       7.867742\n",
      "David Silva         7.855785\n",
      "Mohamed Salah       7.805637\n",
      "Leroy Sane          7.704033\n",
      "Sven Ulreich        7.656781\n",
      "Jiri Pavlenka       7.639096\n",
      "Eden Hazard         7.603217\n",
      "Andrew Robertson    7.601629\n",
      "Kingsley Coman      7.577941\n",
      "Name: mean_centered_rating, dtype: float64\n",
      "\n",
      "Top 10 players by lowest average human mean-centered rating:\n",
      "player\n",
      "Bobby Wood          5.807110\n",
      "William             6.094067\n",
      "Levin Oztunali      6.129285\n",
      "Yuya Osako          6.132346\n",
      "Joselu              6.153456\n",
      "Sergio Cordova      6.156181\n",
      "Milos Jojic         6.180576\n",
      "Florian Kath        6.269968\n",
      "Javier Manquillo    6.272504\n",
      "Divock Origi        6.289721\n",
      "Name: mean_centered_rating, dtype: float64\n",
      "\n",
      "Top 10 players by highest average non-human mean-centered rating:\n",
      "player\n",
      "Eden Hazard         7.922627\n",
      "Kevin De Bruyne     7.827499\n",
      "Sergio Aguero       7.750330\n",
      "Mohamed Salah       7.682856\n",
      "Daniel Caligiuri    7.663934\n",
      "Harry Kane          7.657499\n",
      "Arturo Vidal        7.585979\n",
      "Leroy Sane          7.581888\n",
      "James Rodriguez     7.576689\n",
      "Naldo               7.512191\n",
      "Name: mean_centered_rating, dtype: float64\n",
      "\n",
      "Top 10 players by lowest average non-human mean-centered rating:\n",
      "player\n",
      "Sergio Cordova        6.274895\n",
      "Florian Kath          6.336434\n",
      "Andre Gray            6.354291\n",
      "Christian Mathenia    6.360782\n",
      "Nathan Dyer           6.363100\n",
      "Joe Hart              6.369447\n",
      "Jacob Murphy          6.380434\n",
      "Matthias Lehmann      6.387434\n",
      "Lys Mousset           6.390719\n",
      "Manolo Gabbiadini     6.413741\n",
      "Name: mean_centered_rating, dtype: float64\n"
     ]
    }
   ],
   "source": [
    "# Top 10 players by highest average human mean-centered rating\n",
    "human_best = df[df['is_human'] == 1].groupby('player')['mean_centered_rating'].mean().sort_values(ascending=False).head(10)\n",
    "print(\"Top 10 players by highest average human mean-centered rating:\")\n",
    "print(human_best)\n",
    "\n",
    "# Top 10 players by highest average non-human mean-centered rating\n",
    "nonhuman_best = df[df['is_human'] == 0].groupby('player')['mean_centered_rating'].mean().sort_values(ascending=False).head(10)\n",
    "print(\"\\nTop 10 players by highest average non-human mean-centered rating:\")\n",
    "print(nonhuman_best)\n",
    "\n",
    "# Make mean_centered_rating the new rating of the dataset\n",
    "df['rating'] = df['mean_centered_rating']"
   ]
  },
  {
   "cell_type": "code",
   "execution_count": 69,
   "id": "3540e494",
   "metadata": {},
   "outputs": [
    {
     "name": "stdout",
     "output_type": "stream",
     "text": [
      "Top 10 players with the most difference between human and non-human ratings:\n",
      "                   human_avg  nonhuman_avg  abs_diff\n",
      "player                                              \n",
      "Sven Ulreich        7.656781      6.749648  0.907133\n",
      "William             6.094067      6.992343  0.898276\n",
      "Lukas Hradecky      7.432136      6.572371  0.859765\n",
      "Peter Gulacsi       7.493260      6.655828  0.837432\n",
      "Rune Jarstein       7.419040      6.639192  0.779848\n",
      "Philipp Tschauner   7.381222      6.607434  0.773789\n",
      "Nico Schulz         7.526534      6.829026  0.697508\n",
      "Jiri Pavlenka       7.639096      6.951888  0.687208\n",
      "Bernd Leno          7.334186      6.647371  0.686815\n",
      "Joselu              6.153456      6.830100  0.676644\n"
     ]
    }
   ],
   "source": [
    "# Compute average mean-centered rating for each player by human and non-human raters\n",
    "human_avg = df[df['is_human'] == 1].groupby('player')['rating'].mean()\n",
    "nonhuman_avg = df[df['is_human'] == 0].groupby('player')['rating'].mean()\n",
    "\n",
    "# Join the two series into a DataFrame\n",
    "rating_diff = pd.DataFrame({\n",
    "    'human_avg': human_avg,\n",
    "    'nonhuman_avg': nonhuman_avg\n",
    "}).dropna()  # Keep only players rated by both\n",
    "\n",
    "# Compute the absolute difference\n",
    "rating_diff['abs_diff'] = (rating_diff['human_avg'] - rating_diff['nonhuman_avg']).abs()\n",
    "\n",
    "# Get the 10 players with the largest difference\n",
    "top_10_diff = rating_diff.sort_values('abs_diff', ascending=False).head(10)\n",
    "print(\"Top 10 players with the most difference between human and non-human ratings:\")\n",
    "print(top_10_diff)"
   ]
  },
  {
   "cell_type": "code",
   "execution_count": null,
   "id": "bad2d59e",
   "metadata": {},
   "outputs": [],
   "source": []
  }
 ],
 "metadata": {
  "kernelspec": {
   "display_name": "Python 3",
   "language": "python",
   "name": "python3"
  },
  "language_info": {
   "codemirror_mode": {
    "name": "ipython",
    "version": 3
   },
   "file_extension": ".py",
   "mimetype": "text/x-python",
   "name": "python",
   "nbconvert_exporter": "python",
   "pygments_lexer": "ipython3",
   "version": "3.12.2"
  }
 },
 "nbformat": 4,
 "nbformat_minor": 5
}
