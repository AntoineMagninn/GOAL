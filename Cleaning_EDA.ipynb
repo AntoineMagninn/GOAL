{
 "cells": [
  {
   "cell_type": "code",
   "execution_count": null,
   "id": "535e4db1",
   "metadata": {},
   "outputs": [],
   "source": [
    "import pandas as pd\n",
    "\n",
    "# Load the data from a CSV file\n",
    "df = pd.read_csv('data_football_ratings.csv')\n",
    "\n",
    "# Display the first few rows of the dataframe\n",
    "print(df.head())"
   ]
  },
  {
   "cell_type": "code",
   "execution_count": 7,
   "id": "1f81dbc9",
   "metadata": {},
   "outputs": [
    {
     "name": "stdout",
     "output_type": "stream",
     "text": [
      "Total unique players: 1632\n",
      "Players with at least 30 unique matches: 666\n"
     ]
    }
   ],
   "source": [
    "# Count total unique players\n",
    "total_unique_players = df['player'].nunique()\n",
    "\n",
    "# Remove duplicates by considering unique (player, match, rater) combinations\n",
    "unique_matches = df[['player', 'match', 'rater']].drop_duplicates()\n",
    "\n",
    "# Count the number of unique matches per player\n",
    "matches_per_player = unique_matches.groupby('player').size()\n",
    "\n",
    "# Count players with at least 30 unique matches\n",
    "players_with_30_matches_or_more = (matches_per_player >= 30).sum()\n",
    "\n",
    "# Display results\n",
    "print(f\"Total unique players: {total_unique_players}\")\n",
    "print(f\"Players with at least 30 unique matches: {players_with_30_matches_or_more}\")"
   ]
  }
 ],
 "metadata": {
  "kernelspec": {
   "display_name": "Python 3",
   "language": "python",
   "name": "python3"
  },
  "language_info": {
   "codemirror_mode": {
    "name": "ipython",
    "version": 3
   },
   "file_extension": ".py",
   "mimetype": "text/x-python",
   "name": "python",
   "nbconvert_exporter": "python",
   "pygments_lexer": "ipython3",
   "version": "3.12.2"
  }
 },
 "nbformat": 4,
 "nbformat_minor": 5
}
